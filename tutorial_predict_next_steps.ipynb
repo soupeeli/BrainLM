{
 "cells": [
  {
   "cell_type": "markdown",
   "id": "c79a395f",
   "metadata": {},
   "source": [
    "# Loading Pretrained Checkpoints and Predicting Next Steps\n",
    "\n",
    "This tutorial notebook will show you how to load pretrained BrainLM_MAE models and predict the next X timepoints."
   ]
  },
  {
   "cell_type": "code",
   "execution_count": 1,
   "id": "7e196032",
   "metadata": {},
   "outputs": [
    {
     "name": "stderr",
     "output_type": "stream",
     "text": [
      "/gpfs/gibbs/project/dijk/sr2464/conda_envs/brainlm/lib/python3.8/site-packages/tqdm/auto.py:21: TqdmWarning: IProgress not found. Please update jupyter and ipywidgets. See https://ipywidgets.readthedocs.io/en/stable/user_install.html\n",
      "  from .autonotebook import tqdm as notebook_tqdm\n"
     ]
    }
   ],
   "source": [
    "# Inbuilt Python libraries\n",
    "import os\n",
    "from random import randint\n",
    "\n",
    "# Third party library imports\n",
    "import umap\n",
    "import torch\n",
    "import numpy as np\n",
    "import pandas as pd\n",
    "import matplotlib.pyplot as plt\n",
    "import seaborn as sns\n",
    "from datasets import load_from_disk\n",
    "\n",
    "# Imports for model from local definition\n",
    "from brainlm_mae.modeling_brainlm import BrainLMForPretraining"
   ]
  },
  {
   "cell_type": "code",
   "execution_count": 2,
   "id": "9894b568",
   "metadata": {},
   "outputs": [],
   "source": [
    "if not os.path.exists(\"plots\"):\n",
    "    os.mkdir(\"plots\")  # Creates folder called plots in root of project for saving plots"
   ]
  },
  {
   "cell_type": "code",
   "execution_count": null,
   "id": "7e6276a1",
   "metadata": {},
   "outputs": [],
   "source": []
  },
  {
   "cell_type": "markdown",
   "id": "5157a301",
   "metadata": {},
   "source": [
    "## Load Pretrained Model Checkpoint"
   ]
  },
  {
   "cell_type": "code",
   "execution_count": 3,
   "id": "fc3ec6ff",
   "metadata": {},
   "outputs": [
    {
     "name": "stderr",
     "output_type": "stream",
     "text": [
      "You are using a model of type brainlm_mae to instantiate a model of type vit_mae. This is not supported for all configurations of models and can yield errors.\n"
     ]
    },
    {
     "name": "stdout",
     "output_type": "stream",
     "text": [
      "BrainLMForPretraining(\n",
      "  (vit): BrainLMModel(\n",
      "    (embeddings): BrainLMEmbeddings(\n",
      "      (patch_embeddings): None\n",
      "      (signal_embedding_projection): Linear(in_features=1, out_features=128, bias=True)\n",
      "      (xyzt_embedding_projection): Linear(in_features=4, out_features=128, bias=True)\n",
      "    )\n",
      "    (encoder): ViTMAEEncoder(\n",
      "      (layer): ModuleList(\n",
      "        (0): ViTMAELayer(\n",
      "          (attention): ViTMAEAttention(\n",
      "            (attention): ViTMAESelfAttention(\n",
      "              (query): Linear(in_features=128, out_features=128, bias=True)\n",
      "              (key): Linear(in_features=128, out_features=128, bias=True)\n",
      "              (value): Linear(in_features=128, out_features=128, bias=True)\n",
      "              (dropout): Dropout(p=0.1, inplace=False)\n",
      "            )\n",
      "            (output): ViTMAESelfOutput(\n",
      "              (dense): Linear(in_features=128, out_features=128, bias=True)\n",
      "              (dropout): Dropout(p=0.0, inplace=False)\n",
      "            )\n",
      "          )\n",
      "          (intermediate): ViTMAEIntermediate(\n",
      "            (dense): Linear(in_features=128, out_features=512, bias=True)\n",
      "            (intermediate_act_fn): GELUActivation()\n",
      "          )\n",
      "          (output): ViTMAEOutput(\n",
      "            (dense): Linear(in_features=512, out_features=128, bias=True)\n",
      "            (dropout): Dropout(p=0.0, inplace=False)\n",
      "          )\n",
      "          (layernorm_before): LayerNorm((128,), eps=1e-12, elementwise_affine=True)\n",
      "          (layernorm_after): LayerNorm((128,), eps=1e-12, elementwise_affine=True)\n",
      "        )\n",
      "        (1): ViTMAELayer(\n",
      "          (attention): ViTMAEAttention(\n",
      "            (attention): ViTMAESelfAttention(\n",
      "              (query): Linear(in_features=128, out_features=128, bias=True)\n",
      "              (key): Linear(in_features=128, out_features=128, bias=True)\n",
      "              (value): Linear(in_features=128, out_features=128, bias=True)\n",
      "              (dropout): Dropout(p=0.1, inplace=False)\n",
      "            )\n",
      "            (output): ViTMAESelfOutput(\n",
      "              (dense): Linear(in_features=128, out_features=128, bias=True)\n",
      "              (dropout): Dropout(p=0.0, inplace=False)\n",
      "            )\n",
      "          )\n",
      "          (intermediate): ViTMAEIntermediate(\n",
      "            (dense): Linear(in_features=128, out_features=512, bias=True)\n",
      "            (intermediate_act_fn): GELUActivation()\n",
      "          )\n",
      "          (output): ViTMAEOutput(\n",
      "            (dense): Linear(in_features=512, out_features=128, bias=True)\n",
      "            (dropout): Dropout(p=0.0, inplace=False)\n",
      "          )\n",
      "          (layernorm_before): LayerNorm((128,), eps=1e-12, elementwise_affine=True)\n",
      "          (layernorm_after): LayerNorm((128,), eps=1e-12, elementwise_affine=True)\n",
      "        )\n",
      "        (2): ViTMAELayer(\n",
      "          (attention): ViTMAEAttention(\n",
      "            (attention): ViTMAESelfAttention(\n",
      "              (query): Linear(in_features=128, out_features=128, bias=True)\n",
      "              (key): Linear(in_features=128, out_features=128, bias=True)\n",
      "              (value): Linear(in_features=128, out_features=128, bias=True)\n",
      "              (dropout): Dropout(p=0.1, inplace=False)\n",
      "            )\n",
      "            (output): ViTMAESelfOutput(\n",
      "              (dense): Linear(in_features=128, out_features=128, bias=True)\n",
      "              (dropout): Dropout(p=0.0, inplace=False)\n",
      "            )\n",
      "          )\n",
      "          (intermediate): ViTMAEIntermediate(\n",
      "            (dense): Linear(in_features=128, out_features=512, bias=True)\n",
      "            (intermediate_act_fn): GELUActivation()\n",
      "          )\n",
      "          (output): ViTMAEOutput(\n",
      "            (dense): Linear(in_features=512, out_features=128, bias=True)\n",
      "            (dropout): Dropout(p=0.0, inplace=False)\n",
      "          )\n",
      "          (layernorm_before): LayerNorm((128,), eps=1e-12, elementwise_affine=True)\n",
      "          (layernorm_after): LayerNorm((128,), eps=1e-12, elementwise_affine=True)\n",
      "        )\n",
      "        (3): ViTMAELayer(\n",
      "          (attention): ViTMAEAttention(\n",
      "            (attention): ViTMAESelfAttention(\n",
      "              (query): Linear(in_features=128, out_features=128, bias=True)\n",
      "              (key): Linear(in_features=128, out_features=128, bias=True)\n",
      "              (value): Linear(in_features=128, out_features=128, bias=True)\n",
      "              (dropout): Dropout(p=0.1, inplace=False)\n",
      "            )\n",
      "            (output): ViTMAESelfOutput(\n",
      "              (dense): Linear(in_features=128, out_features=128, bias=True)\n",
      "              (dropout): Dropout(p=0.0, inplace=False)\n",
      "            )\n",
      "          )\n",
      "          (intermediate): ViTMAEIntermediate(\n",
      "            (dense): Linear(in_features=128, out_features=512, bias=True)\n",
      "            (intermediate_act_fn): GELUActivation()\n",
      "          )\n",
      "          (output): ViTMAEOutput(\n",
      "            (dense): Linear(in_features=512, out_features=128, bias=True)\n",
      "            (dropout): Dropout(p=0.0, inplace=False)\n",
      "          )\n",
      "          (layernorm_before): LayerNorm((128,), eps=1e-12, elementwise_affine=True)\n",
      "          (layernorm_after): LayerNorm((128,), eps=1e-12, elementwise_affine=True)\n",
      "        )\n",
      "      )\n",
      "    )\n",
      "    (layernorm): LayerNorm((128,), eps=1e-12, elementwise_affine=True)\n",
      "  )\n",
      "  (decoder): BrainLMDecoder(\n",
      "    (decoder_embed): Linear(in_features=128, out_features=128, bias=True)\n",
      "    (decoder_layers): ModuleList(\n",
      "      (0): ViTMAELayer(\n",
      "        (attention): ViTMAEAttention(\n",
      "          (attention): ViTMAESelfAttention(\n",
      "            (query): Linear(in_features=128, out_features=128, bias=True)\n",
      "            (key): Linear(in_features=128, out_features=128, bias=True)\n",
      "            (value): Linear(in_features=128, out_features=128, bias=True)\n",
      "            (dropout): Dropout(p=0.1, inplace=False)\n",
      "          )\n",
      "          (output): ViTMAESelfOutput(\n",
      "            (dense): Linear(in_features=128, out_features=128, bias=True)\n",
      "            (dropout): Dropout(p=0.0, inplace=False)\n",
      "          )\n",
      "        )\n",
      "        (intermediate): ViTMAEIntermediate(\n",
      "          (dense): Linear(in_features=128, out_features=512, bias=True)\n",
      "          (intermediate_act_fn): GELUActivation()\n",
      "        )\n",
      "        (output): ViTMAEOutput(\n",
      "          (dense): Linear(in_features=512, out_features=128, bias=True)\n",
      "          (dropout): Dropout(p=0.0, inplace=False)\n",
      "        )\n",
      "        (layernorm_before): LayerNorm((128,), eps=1e-12, elementwise_affine=True)\n",
      "        (layernorm_after): LayerNorm((128,), eps=1e-12, elementwise_affine=True)\n",
      "      )\n",
      "      (1): ViTMAELayer(\n",
      "        (attention): ViTMAEAttention(\n",
      "          (attention): ViTMAESelfAttention(\n",
      "            (query): Linear(in_features=128, out_features=128, bias=True)\n",
      "            (key): Linear(in_features=128, out_features=128, bias=True)\n",
      "            (value): Linear(in_features=128, out_features=128, bias=True)\n",
      "            (dropout): Dropout(p=0.1, inplace=False)\n",
      "          )\n",
      "          (output): ViTMAESelfOutput(\n",
      "            (dense): Linear(in_features=128, out_features=128, bias=True)\n",
      "            (dropout): Dropout(p=0.0, inplace=False)\n",
      "          )\n",
      "        )\n",
      "        (intermediate): ViTMAEIntermediate(\n",
      "          (dense): Linear(in_features=128, out_features=512, bias=True)\n",
      "          (intermediate_act_fn): GELUActivation()\n",
      "        )\n",
      "        (output): ViTMAEOutput(\n",
      "          (dense): Linear(in_features=512, out_features=128, bias=True)\n",
      "          (dropout): Dropout(p=0.0, inplace=False)\n",
      "        )\n",
      "        (layernorm_before): LayerNorm((128,), eps=1e-12, elementwise_affine=True)\n",
      "        (layernorm_after): LayerNorm((128,), eps=1e-12, elementwise_affine=True)\n",
      "      )\n",
      "    )\n",
      "    (decoder_norm): LayerNorm((128,), eps=1e-12, elementwise_affine=True)\n",
      "    (decoder_pred): Linear(in_features=128, out_features=768, bias=True)\n",
      "    (decoder_xyzt_embedding_projection): Linear(in_features=4, out_features=128, bias=True)\n",
      "    (decoder_pred1): Linear(in_features=128, out_features=64, bias=True)\n",
      "    (decoder_pred_nonlinearity): LeakyReLU(negative_slope=0.1)\n",
      "    (decoder_pred2): Linear(in_features=64, out_features=1, bias=True)\n",
      "  )\n",
      ")\n"
     ]
    }
   ],
   "source": [
    "checkpoint_path = \"/home/sr2464/Desktop/BrainLM/training-runs/2023-04-21-10_29_26/checkpoint-181\"\n",
    "model = BrainLMForPretraining.from_pretrained(checkpoint_path)\n",
    "print(model)"
   ]
  },
  {
   "cell_type": "code",
   "execution_count": 4,
   "id": "3e3df962",
   "metadata": {},
   "outputs": [
    {
     "data": {
      "text/plain": [
       "ViTMAEConfig {\n",
       "  \"_name_or_path\": \"/home/sr2464/Desktop/BrainLM/training-runs/2023-04-21-10_29_26/checkpoint-181\",\n",
       "  \"architectures\": [\n",
       "    \"BrainLMForPretraining\"\n",
       "  ],\n",
       "  \"attention_probs_dropout_prob\": 0.1,\n",
       "  \"decoder_hidden_size\": 128,\n",
       "  \"decoder_intermediate_size\": 512,\n",
       "  \"decoder_num_attention_heads\": 4,\n",
       "  \"decoder_num_hidden_layers\": 2,\n",
       "  \"hidden_act\": \"gelu\",\n",
       "  \"hidden_dropout_prob\": 0.0,\n",
       "  \"hidden_size\": 128,\n",
       "  \"image_size\": 224,\n",
       "  \"initializer_range\": 0.02,\n",
       "  \"intermediate_size\": 512,\n",
       "  \"layer_norm_eps\": 1e-12,\n",
       "  \"loss_fn\": \"mse\",\n",
       "  \"mask_ratio\": 0.5,\n",
       "  \"model_type\": \"vit_mae\",\n",
       "  \"norm_pix_loss\": false,\n",
       "  \"num_attention_heads\": 4,\n",
       "  \"num_channels\": 3,\n",
       "  \"num_hidden_layers\": 4,\n",
       "  \"patch_size\": 16,\n",
       "  \"qkv_bias\": true,\n",
       "  \"torch_dtype\": \"float32\",\n",
       "  \"transformers_version\": \"4.28.0.dev0\"\n",
       "}"
      ]
     },
     "execution_count": 4,
     "metadata": {},
     "output_type": "execute_result"
    }
   ],
   "source": [
    "# View model config\n",
    "model.config"
   ]
  },
  {
   "cell_type": "code",
   "execution_count": null,
   "id": "451a5399",
   "metadata": {},
   "outputs": [],
   "source": []
  },
  {
   "cell_type": "markdown",
   "id": "236a8762",
   "metadata": {},
   "source": [
    "## Load Dataset"
   ]
  },
  {
   "cell_type": "code",
   "execution_count": 5,
   "id": "2beffb5b",
   "metadata": {},
   "outputs": [
    {
     "name": "stdout",
     "output_type": "stream",
     "text": [
      "Dataset({\n",
      "    features: ['Raw Recording', 'Normalized Recording', 'Filename', 'Patient ID'],\n",
      "    num_rows: 100\n",
      "})\n"
     ]
    }
   ],
   "source": [
    "test_ds_path = \"/home/sr2464/palmer_scratch/datasets/UKBioBank1000_Arrow_global_normalization/test_ukbiobank1000\"\n",
    "test_ds = load_from_disk(test_ds_path)\n",
    "print(test_ds)"
   ]
  },
  {
   "cell_type": "code",
   "execution_count": 6,
   "id": "00c6e8be",
   "metadata": {},
   "outputs": [
    {
     "name": "stdout",
     "output_type": "stream",
     "text": [
      "(490, 424)\n"
     ]
    }
   ],
   "source": [
    "example1 = test_ds[0]\n",
    "print(np.array(example1[\"Normalized Recording\"]).shape)"
   ]
  },
  {
   "cell_type": "code",
   "execution_count": 7,
   "id": "b2e3397b",
   "metadata": {},
   "outputs": [
    {
     "name": "stdout",
     "output_type": "stream",
     "text": [
      "Dataset({\n",
      "    features: ['Index', 'X', 'Y', 'Z'],\n",
      "    num_rows: 424\n",
      "})\n"
     ]
    }
   ],
   "source": [
    "coords_ds_path = \"/home/sr2464/palmer_scratch/datasets/UKBioBank1000_Arrow/Brain_Region_Coordinates\"\n",
    "coords_ds = load_from_disk(coords_ds_path)\n",
    "print(coords_ds)"
   ]
  },
  {
   "cell_type": "code",
   "execution_count": null,
   "id": "5f526878",
   "metadata": {},
   "outputs": [],
   "source": []
  },
  {
   "cell_type": "markdown",
   "id": "64443f93",
   "metadata": {},
   "source": [
    "## Preprocessing Function and Sample Creation"
   ]
  },
  {
   "cell_type": "code",
   "execution_count": 8,
   "id": "cd6ff2e7",
   "metadata": {},
   "outputs": [],
   "source": [
    "recording_col_name = \"Normalized Recording\"\n",
    "moving_window_len = 10"
   ]
  },
  {
   "cell_type": "code",
   "execution_count": 9,
   "id": "f3600fbe",
   "metadata": {},
   "outputs": [],
   "source": [
    "def collate_fn(examples):\n",
    "    \"\"\"\n",
    "    This function tells the dataloader how to stack a batch of examples from the dataset.\n",
    "    Need to stack gene expression vectors and maintain same argument names for model inputs\n",
    "    which CellLM is expecting in forward() function:\n",
    "        expression_vectors, sampled_gene_indices, and cell_indices\n",
    "    \"\"\"\n",
    "    labels = torch.zeros(len(examples[\"xyzt_vectors\"]), dtype=torch.float32)\n",
    "\n",
    "    # These inputs will go to model.forward(), names must match\n",
    "    return {\n",
    "        \"signal_vectors\": examples[\"signal_vectors\"][0].unsqueeze(0),\n",
    "        \"xyzt_vectors\": examples[\"xyzt_vectors\"][0].unsqueeze(0),\n",
    "        \"input_ids\": examples[\"signal_vectors\"][0].unsqueeze(0),\n",
    "        \"labels\": labels\n",
    "    }"
   ]
  },
  {
   "cell_type": "code",
   "execution_count": 10,
   "id": "48efb27e",
   "metadata": {},
   "outputs": [],
   "source": [
    "def preprocess_images(examples):\n",
    "    \"\"\"\n",
    "    Preprocessing function for dataset samples. This function is passed into Trainer as\n",
    "    a preprocessor which takes in one row of the loaded dataset and constructs a model\n",
    "    input sample according to the arguments which model.forward() expects.\n",
    "\n",
    "    The reason this function is defined inside on main() function is because we need\n",
    "    access to arguments such as cell_expression_vector_col_name.\n",
    "    \"\"\"\n",
    "    #\n",
    "    signal_val_list = []\n",
    "    xyzt_list = []\n",
    "\n",
    "    for idx, signal_vector in enumerate(examples[recording_col_name]):\n",
    "        # signal_vector is list of lists of shape [num_timepoints x 424]\n",
    "        signal_vector = torch.tensor(signal_vector, dtype=torch.float32)\n",
    "\n",
    "        # Choose random starting index, take window of moving_window_len points for each region\n",
    "        start_idx = randint(0, signal_vector.shape[0] - moving_window_len)\n",
    "        end_idx = start_idx + moving_window_len\n",
    "\n",
    "        # Append signal values and coords\n",
    "        window = signal_vector[start_idx: end_idx, :]  # [moving_window_len, 424]\n",
    "        for brain_region_idx in range(window.shape[1]):\n",
    "            for idx, timepoint_idx in enumerate(range(start_idx, end_idx)):\n",
    "                xyz = torch.tensor([\n",
    "                    coords_ds[brain_region_idx][\"X\"],\n",
    "                    coords_ds[brain_region_idx][\"Y\"],\n",
    "                    coords_ds[brain_region_idx][\"Z\"]], dtype=torch.float32)\n",
    "                xyzt = torch.cat([xyz, torch.tensor([timepoint_idx], dtype=torch.float32)])\n",
    "                xyzt_list.append(xyzt)\n",
    "\n",
    "                signal_val = window[idx, brain_region_idx]\n",
    "                signal_val_list.append(torch.tensor([signal_val], dtype=torch.float32))\n",
    "\n",
    "    # Add in key-value pairs for model inputs which CellLM is expecting in forward() function:\n",
    "    #  signal_vectors and xyzt_vectors\n",
    "    #  These lists will be stacked into torch Tensors by collate() function (defined above).\n",
    "    examples[\"signal_vectors\"] = [torch.stack(signal_val_list, dim=0)]\n",
    "    examples[\"xyzt_vectors\"] = [torch.stack(xyzt_list, dim=0)]\n",
    "    return examples"
   ]
  },
  {
   "cell_type": "markdown",
   "id": "5ffc51a4",
   "metadata": {},
   "source": [
    "Forward 1 sample through BrainLM model"
   ]
  },
  {
   "cell_type": "code",
   "execution_count": 11,
   "id": "cd82e02d",
   "metadata": {},
   "outputs": [
    {
     "name": "stdout",
     "output_type": "stream",
     "text": [
      "{'signal_vectors': tensor([[[0.4930],\n",
      "         [0.5399],\n",
      "         [0.5775],\n",
      "         ...,\n",
      "         [0.6924],\n",
      "         [0.8616],\n",
      "         [0.7620]]]), 'xyzt_vectors': tensor([[[ 14., -78.,   4.,  21.],\n",
      "         [ 14., -78.,   4.,  22.],\n",
      "         [ 14., -78.,   4.,  23.],\n",
      "         ...,\n",
      "         [ 22., -38., -46.,  28.],\n",
      "         [ 22., -38., -46.,  29.],\n",
      "         [ 22., -38., -46.,  30.]]]), 'input_ids': tensor([[[0.4930],\n",
      "         [0.5399],\n",
      "         [0.5775],\n",
      "         ...,\n",
      "         [0.6924],\n",
      "         [0.8616],\n",
      "         [0.7620]]]), 'labels': tensor([0.])}\n"
     ]
    }
   ],
   "source": [
    "example = test_ds[0]\n",
    "\n",
    "# Wrap each value in the key:value pairs into a list (expected by preprocess() and collate())\n",
    "example[\"Normalized Recording\"] = [example[\"Normalized Recording\"]]\n",
    "\n",
    "processed_example = preprocess_images(\n",
    "    examples=example\n",
    "\n",
    ")  # preprocess samples genes, adds keys, etc\n",
    "model_inputs = collate_fn(processed_example)\n",
    "print(model_inputs)\n"
   ]
  },
  {
   "cell_type": "code",
   "execution_count": 12,
   "id": "46424fa4",
   "metadata": {},
   "outputs": [
    {
     "name": "stdout",
     "output_type": "stream",
     "text": [
      "torch.Size([1, 4240, 1])\n",
      "torch.Size([1, 4240, 4])\n"
     ]
    }
   ],
   "source": [
    "print(model_inputs[\"signal_vectors\"].shape)\n",
    "print(model_inputs[\"xyzt_vectors\"].shape)"
   ]
  },
  {
   "cell_type": "code",
   "execution_count": 13,
   "id": "f91ea178",
   "metadata": {},
   "outputs": [],
   "source": [
    "model.vit.embeddings.mask_for_inference = True"
   ]
  },
  {
   "cell_type": "code",
   "execution_count": 14,
   "id": "31f9f27e",
   "metadata": {},
   "outputs": [
    {
     "name": "stdout",
     "output_type": "stream",
     "text": [
      "Custom inference masking...\n",
      "odict_keys(['loss', 'logits', 'mask', 'ids_restore'])\n"
     ]
    }
   ],
   "source": [
    "vitmae_for_pre_training_output = model(\n",
    "    signal_vectors=model_inputs[\"signal_vectors\"],\n",
    "    xyzt_vectors=model_inputs[\"xyzt_vectors\"],\n",
    "    labels=model_inputs[\"labels\"],\n",
    "    input_ids=model_inputs[\"input_ids\"]\n",
    ")\n",
    "print(vitmae_for_pre_training_output.keys())"
   ]
  },
  {
   "cell_type": "code",
   "execution_count": 15,
   "id": "613ca549",
   "metadata": {},
   "outputs": [
    {
     "data": {
      "text/plain": [
       "tensor(0.0492, grad_fn=<DivBackward0>)"
      ]
     },
     "execution_count": 15,
     "metadata": {},
     "output_type": "execute_result"
    }
   ],
   "source": [
    "vitmae_for_pre_training_output[\"loss\"]"
   ]
  },
  {
   "cell_type": "code",
   "execution_count": 16,
   "id": "6da6f18b",
   "metadata": {},
   "outputs": [
    {
     "data": {
      "text/plain": [
       "torch.Size([1, 4240, 1])"
      ]
     },
     "execution_count": 16,
     "metadata": {},
     "output_type": "execute_result"
    }
   ],
   "source": [
    "vitmae_for_pre_training_output[\"logits\"].shape"
   ]
  },
  {
   "cell_type": "code",
   "execution_count": 17,
   "id": "e889a187",
   "metadata": {},
   "outputs": [
    {
     "name": "stdout",
     "output_type": "stream",
     "text": [
      "torch.Size([1, 4240])\n",
      "tensor([0., 0., 0., 0., 0., 1., 1., 1., 1., 1., 0., 0.])\n"
     ]
    }
   ],
   "source": [
    "print(vitmae_for_pre_training_output[\"mask\"].shape)\n",
    "print(vitmae_for_pre_training_output[\"mask\"][0, :12])"
   ]
  },
  {
   "cell_type": "code",
   "execution_count": 21,
   "id": "d6f5a26c",
   "metadata": {},
   "outputs": [
    {
     "name": "stdout",
     "output_type": "stream",
     "text": [
      "(4240,)\n",
      "(4240,)\n"
     ]
    }
   ],
   "source": [
    "preds = vitmae_for_pre_training_output[\"logits\"][0, :, 0].detach().cpu().numpy()\n",
    "print(preds.shape)\n",
    "gt = model_inputs[\"signal_vectors\"][0, :, 0].detach().cpu().numpy()\n",
    "print(gt.shape)"
   ]
  },
  {
   "cell_type": "code",
   "execution_count": 22,
   "id": "67e6a820",
   "metadata": {},
   "outputs": [
    {
     "data": {
      "image/png": "[encoded data removed]",
      "text/plain": [
       "<Figure size 640x480 with 1 Axes>"
      ]
     },
     "metadata": {},
     "output_type": "display_data"
    }
   ],
   "source": [
    "plt.plot(gt[:5], label=\"Input Data\")\n",
    "plt.plot(preds[5:10], label=\"Prediction\")\n",
    "plt.show()"
   ]
  },
  {
   "cell_type": "code",
   "execution_count": 24,
   "id": "56d8eddf",
   "metadata": {},
   "outputs": [
    {
     "data": {
      "image/png": "[encoded data removed]",
      "text/plain": [
       "<Figure size 640x480 with 1 Axes>"
      ]
     },
     "metadata": {},
     "output_type": "display_data"
    }
   ],
   "source": [
    "plt.plot(gt[110:115], label=\"Input Data\")\n",
    "plt.plot(preds[115:120], label=\"Prediction\")\n",
    "plt.show()"
   ]
  },
  {
   "cell_type": "code",
   "execution_count": null,
   "id": "8dd4554b",
   "metadata": {},
   "outputs": [],
   "source": []
  },
  {
   "cell_type": "code",
   "execution_count": null,
   "id": "9f3f311b",
   "metadata": {},
   "outputs": [],
   "source": []
  },
  {
   "cell_type": "code",
   "execution_count": null,
   "id": "7d90ec78",
   "metadata": {},
   "outputs": [],
   "source": []
  },
  {
   "cell_type": "code",
   "execution_count": null,
   "id": "b508780c",
   "metadata": {},
   "outputs": [],
   "source": []
  },
  {
   "cell_type": "code",
   "execution_count": null,
   "id": "2a759491",
   "metadata": {},
   "outputs": [],
   "source": []
  },
  {
   "cell_type": "code",
   "execution_count": null,
   "id": "b7d6a0fc",
   "metadata": {},
   "outputs": [],
   "source": []
  }
 ],
 "metadata": {
  "kernelspec": {
   "display_name": "Python 3 (ipykernel)",
   "language": "python",
   "name": "python3"
  },
  "language_info": {
   "codemirror_mode": {
    "name": "ipython",
    "version": 3
   },
   "file_extension": ".py",
   "mimetype": "text/x-python",
   "name": "python",
   "nbconvert_exporter": "python",
   "pygments_lexer": "ipython3",
   "version": "3.9.16"
  }
 },
 "nbformat": 4,
 "nbformat_minor": 5
}
